{
 "cells": [
  {
   "cell_type": "code",
   "execution_count": 91,
   "metadata": {},
   "outputs": [
    {
     "name": "stdout",
     "output_type": "stream",
     "text": [
      "2.1.0\n"
     ]
    }
   ],
   "source": [
    "import pandas as pd\n",
    "import numpy as np\n",
    "import tensorflow as tf\n",
    "from scipy import stats\n",
    "import matplotlib.pyplot as plt\n",
    "from statsmodels.tsa.stattools import adfuller\n",
    "from statsmodels.tsa.stattools import pacf\n",
    "import seaborn as sns\n",
    "%matplotlib inline\n",
    "from tensorflow import keras\n",
    "\n",
    "print(tf.__version__)"
   ]
  },
  {
   "cell_type": "code",
   "execution_count": 46,
   "metadata": {},
   "outputs": [],
   "source": [
    "\n",
    "def plot_series(df,format='-',start = 0, end = None):\n",
    "    plt.plot(df['Umsatz'],format)\n",
    "    plt.xlabel(\"Time\")\n",
    "    plt.ylabel(\"sales\")\n",
    "    plt.grid(True)"
   ]
  },
  {
   "cell_type": "code",
   "execution_count": 83,
   "metadata": {
    "scrolled": true
   },
   "outputs": [],
   "source": [
    "import pandas as pd\n",
    "\n",
    "dataframe = pd.read_csv('meteolytix_Corona_bakery_turnover_updated.csv')\n",
    "dataframe['Datum']=pd.to_datetime(dataframe['Datum'])\n",
    "\n",
    "dataframe['Quarter'] = dataframe['Datum'].apply(lambda x: x.quarter)\n",
    "dataframe['DayofTheWeek'] = dataframe['Datum'].apply(lambda x: x.weekday()+1)\n",
    "\n",
    "dataframe.set_index('Datum',inplace=True)"
   ]
  },
  {
   "cell_type": "code",
   "execution_count": 84,
   "metadata": {},
   "outputs": [],
   "source": [
    "prodG1 = dataframe[dataframe['Warengruppe'] == 1]\n",
    "prodG2 = dataframe[dataframe['Warengruppe'] == 2]\n",
    "prodG3 = dataframe[dataframe['Warengruppe'] == 3]\n",
    "prodG4 = dataframe[dataframe['Warengruppe'] == 4]\n",
    "prodG5 = dataframe[dataframe['Warengruppe'] == 5]\n",
    "prodG6 = dataframe[dataframe['Warengruppe'] == 6]"
   ]
  },
  {
   "cell_type": "code",
   "execution_count": 85,
   "metadata": {
    "scrolled": false
   },
   "outputs": [
    {
     "name": "stderr",
     "output_type": "stream",
     "text": [
      "C:\\ProgramData\\Anaconda3\\lib\\site-packages\\pandas\\core\\frame.py:3997: SettingWithCopyWarning: \n",
      "A value is trying to be set on a copy of a slice from a DataFrame\n",
      "\n",
      "See the caveats in the documentation: https://pandas.pydata.org/pandas-docs/stable/user_guide/indexing.html#returning-a-view-versus-a-copy\n",
      "  errors=errors,\n"
     ]
    }
   ],
   "source": [
    "prodG1.drop('Warengruppe',axis=1,inplace=True) \n",
    "prodG2.drop('Warengruppe',axis=1,inplace=True) \n",
    "prodG3.drop('Warengruppe',axis=1,inplace=True) \n",
    "prodG4.drop('Warengruppe',axis=1,inplace=True) \n",
    "prodG5.drop('Warengruppe',axis=1,inplace=True) \n",
    "prodG6.drop('Warengruppe',axis=1,inplace=True) "
   ]
  },
  {
   "cell_type": "code",
   "execution_count": 86,
   "metadata": {},
   "outputs": [
    {
     "data": {
      "text/html": [
       "<div>\n",
       "<style scoped>\n",
       "    .dataframe tbody tr th:only-of-type {\n",
       "        vertical-align: middle;\n",
       "    }\n",
       "\n",
       "    .dataframe tbody tr th {\n",
       "        vertical-align: top;\n",
       "    }\n",
       "\n",
       "    .dataframe thead th {\n",
       "        text-align: right;\n",
       "    }\n",
       "</style>\n",
       "<table border=\"1\" class=\"dataframe\">\n",
       "  <thead>\n",
       "    <tr style=\"text-align: right;\">\n",
       "      <th></th>\n",
       "      <th>Umsatz</th>\n",
       "      <th>Quarter</th>\n",
       "      <th>DayofTheWeek</th>\n",
       "    </tr>\n",
       "    <tr>\n",
       "      <th>Datum</th>\n",
       "      <th></th>\n",
       "      <th></th>\n",
       "      <th></th>\n",
       "    </tr>\n",
       "  </thead>\n",
       "  <tbody>\n",
       "    <tr>\n",
       "      <th>2015-01-02</th>\n",
       "      <td>174.420475</td>\n",
       "      <td>1</td>\n",
       "      <td>5</td>\n",
       "    </tr>\n",
       "    <tr>\n",
       "      <th>2015-01-03</th>\n",
       "      <td>142.262599</td>\n",
       "      <td>1</td>\n",
       "      <td>6</td>\n",
       "    </tr>\n",
       "    <tr>\n",
       "      <th>2015-01-05</th>\n",
       "      <td>216.601236</td>\n",
       "      <td>1</td>\n",
       "      <td>1</td>\n",
       "    </tr>\n",
       "    <tr>\n",
       "      <th>2015-01-06</th>\n",
       "      <td>183.129788</td>\n",
       "      <td>1</td>\n",
       "      <td>2</td>\n",
       "    </tr>\n",
       "    <tr>\n",
       "      <th>2015-01-07</th>\n",
       "      <td>143.595921</td>\n",
       "      <td>1</td>\n",
       "      <td>3</td>\n",
       "    </tr>\n",
       "    <tr>\n",
       "      <th>...</th>\n",
       "      <td>...</td>\n",
       "      <td>...</td>\n",
       "      <td>...</td>\n",
       "    </tr>\n",
       "    <tr>\n",
       "      <th>2020-05-26</th>\n",
       "      <td>164.895962</td>\n",
       "      <td>2</td>\n",
       "      <td>2</td>\n",
       "    </tr>\n",
       "    <tr>\n",
       "      <th>2020-05-27</th>\n",
       "      <td>140.038390</td>\n",
       "      <td>2</td>\n",
       "      <td>3</td>\n",
       "    </tr>\n",
       "    <tr>\n",
       "      <th>2020-05-28</th>\n",
       "      <td>162.610967</td>\n",
       "      <td>2</td>\n",
       "      <td>4</td>\n",
       "    </tr>\n",
       "    <tr>\n",
       "      <th>2020-05-29</th>\n",
       "      <td>164.888451</td>\n",
       "      <td>2</td>\n",
       "      <td>5</td>\n",
       "    </tr>\n",
       "    <tr>\n",
       "      <th>2020-05-30</th>\n",
       "      <td>129.565558</td>\n",
       "      <td>2</td>\n",
       "      <td>6</td>\n",
       "    </tr>\n",
       "  </tbody>\n",
       "</table>\n",
       "<p>1662 rows × 3 columns</p>\n",
       "</div>"
      ],
      "text/plain": [
       "                Umsatz  Quarter  DayofTheWeek\n",
       "Datum                                        \n",
       "2015-01-02  174.420475        1             5\n",
       "2015-01-03  142.262599        1             6\n",
       "2015-01-05  216.601236        1             1\n",
       "2015-01-06  183.129788        1             2\n",
       "2015-01-07  143.595921        1             3\n",
       "...                ...      ...           ...\n",
       "2020-05-26  164.895962        2             2\n",
       "2020-05-27  140.038390        2             3\n",
       "2020-05-28  162.610967        2             4\n",
       "2020-05-29  164.888451        2             5\n",
       "2020-05-30  129.565558        2             6\n",
       "\n",
       "[1662 rows x 3 columns]"
      ]
     },
     "execution_count": 86,
     "metadata": {},
     "output_type": "execute_result"
    }
   ],
   "source": [
    "prodG1"
   ]
  },
  {
   "cell_type": "code",
   "execution_count": 96,
   "metadata": {},
   "outputs": [
    {
     "data": {
      "image/png": "[encoded data removed]",
      "text/plain": [
       "<Figure size 1008x360 with 1 Axes>"
      ]
     },
     "metadata": {
      "needs_background": "light"
     },
     "output_type": "display_data"
    }
   ],
   "source": [
    "plt.figure(figsize=(14,5))\n",
    "plt.subplots_adjust(wspace=0.2)\n",
    "plt.subplot(1,2,2)\n",
    "sns.boxplot(x=\"Quarter\", y=\"Umsatz\", data=prodG1)\n",
    "plt.xlabel('Quarter')\n",
    "plt.title('Box plot of Quarterly Sales')\n",
    "sns.despine(left=True)\n",
    "plt.tight_layout();"
   ]
  },
  {
   "cell_type": "code",
   "execution_count": null,
   "metadata": {},
   "outputs": [],
   "source": []
  }
 ],
 "metadata": {
  "kernelspec": {
   "display_name": "Python 3",
   "language": "python",
   "name": "python3"
  },
  "language_info": {
   "codemirror_mode": {
    "name": "ipython",
    "version": 3
   },
   "file_extension": ".py",
   "mimetype": "text/x-python",
   "name": "python",
   "nbconvert_exporter": "python",
   "pygments_lexer": "ipython3",
   "version": "3.7.6"
  }
 },
 "nbformat": 4,
 "nbformat_minor": 4
}
